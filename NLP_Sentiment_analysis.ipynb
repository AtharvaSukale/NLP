{
  "nbformat": 4,
  "nbformat_minor": 0,
  "metadata": {
    "colab": {
      "provenance": []
    },
    "kernelspec": {
      "name": "python3",
      "display_name": "Python 3"
    },
    "language_info": {
      "name": "python"
    }
  },
  "cells": [
    {
      "cell_type": "code",
      "execution_count": 1,
      "metadata": {
        "colab": {
          "base_uri": "https://localhost:8080/"
        },
        "id": "ve7yqwm2vC4a",
        "outputId": "2c3a1fa1-6b01-4706-9155-afcace067232"
      },
      "outputs": [
        {
          "output_type": "stream",
          "name": "stdout",
          "text": [
            "Requirement already satisfied: textblob in /usr/local/lib/python3.10/dist-packages (0.17.1)\n",
            "Requirement already satisfied: nltk>=3.1 in /usr/local/lib/python3.10/dist-packages (from textblob) (3.8.1)\n",
            "Requirement already satisfied: click in /usr/local/lib/python3.10/dist-packages (from nltk>=3.1->textblob) (8.1.7)\n",
            "Requirement already satisfied: joblib in /usr/local/lib/python3.10/dist-packages (from nltk>=3.1->textblob) (1.4.0)\n",
            "Requirement already satisfied: regex>=2021.8.3 in /usr/local/lib/python3.10/dist-packages (from nltk>=3.1->textblob) (2023.12.25)\n",
            "Requirement already satisfied: tqdm in /usr/local/lib/python3.10/dist-packages (from nltk>=3.1->textblob) (4.66.2)\n"
          ]
        }
      ],
      "source": [
        "!pip install textblob"
      ]
    },
    {
      "cell_type": "code",
      "source": [
        "from textblob import TextBlob\n",
        "def sentiment(polarity):\n",
        " if blob.sentiment.polarity < 0:\n",
        "   print(\"Negative\")\n",
        " elif blob.sentiment.polarity > 0:\n",
        "   print(\"Positive\")\n",
        " else:\n",
        "   print(\"Neutral\")\n",
        "blob = TextBlob(\"The movie was excellent!\")\n",
        "print(blob.sentiment)\n",
        "sentiment(blob.sentiment.polarity)\n",
        "blob = TextBlob(\"The movie was not bad.\")\n",
        "print(blob.sentiment)\n",
        "sentiment(blob.sentiment.polarity)\n",
        "blob = TextBlob(\"The movie was ridiculous.\")\n",
        "print(blob.sentiment)\n",
        "sentiment(blob.sentiment.polarity)"
      ],
      "metadata": {
        "colab": {
          "base_uri": "https://localhost:8080/"
        },
        "id": "nCAWoPdsvRCN",
        "outputId": "8c008119-f581-499a-8c70-a813fac6dc84"
      },
      "execution_count": 2,
      "outputs": [
        {
          "output_type": "stream",
          "name": "stdout",
          "text": [
            "Sentiment(polarity=1.0, subjectivity=1.0)\n",
            "Positive\n",
            "Sentiment(polarity=0.3499999999999999, subjectivity=0.6666666666666666)\n",
            "Positive\n",
            "Sentiment(polarity=-0.3333333333333333, subjectivity=1.0)\n",
            "Negative\n"
          ]
        }
      ]
    },
    {
      "cell_type": "code",
      "source": [],
      "metadata": {
        "id": "St_UBh80pbKM"
      },
      "execution_count": 2,
      "outputs": []
    }
  ]
}