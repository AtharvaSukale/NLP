{
  "nbformat": 4,
  "nbformat_minor": 0,
  "metadata": {
    "colab": {
      "provenance": [],
      "authorship_tag": "ABX9TyOZE3AG1itB+MlEWqjnujoh",
      "include_colab_link": true
    },
    "kernelspec": {
      "name": "python3",
      "display_name": "Python 3"
    },
    "language_info": {
      "name": "python"
    }
  },
  "cells": [
    {
      "cell_type": "markdown",
      "metadata": {
        "id": "view-in-github",
        "colab_type": "text"
      },
      "source": [
        "<a href=\"https://colab.research.google.com/github/AtharvaSukale/NLP/blob/main/NLP1.ipynb\" target=\"_parent\"><img src=\"https://colab.research.google.com/assets/colab-badge.svg\" alt=\"Open In Colab\"/></a>"
      ]
    },
    {
      "cell_type": "code",
      "execution_count": null,
      "metadata": {
        "id": "FiOJ9rh-mTuK"
      },
      "outputs": [],
      "source": [
        "import nltk\n",
        "from nltk.tokenize import WhitespaceTokenizer, WordPunctTokenizer, TreebankWordTokenizer, TweetTokenizer, MWETokenizer\n",
        "from nltk.stem import PorterStemmer, SnowballStemmer, WordNetLemmatizer\n",
        "import string"
      ]
    },
    {
      "cell_type": "code",
      "source": [
        "nltk.download('punkt')\n",
        "nltk.download('wordnet')"
      ],
      "metadata": {
        "colab": {
          "base_uri": "https://localhost:8080/"
        },
        "id": "BgdQv3wZmr6m",
        "outputId": "9cad94c7-a399-440d-d6db-d49150258e18"
      },
      "execution_count": null,
      "outputs": [
        {
          "output_type": "stream",
          "name": "stderr",
          "text": [
            "[nltk_data] Downloading package punkt to /root/nltk_data...\n",
            "[nltk_data]   Unzipping tokenizers/punkt.zip.\n",
            "[nltk_data] Downloading package wordnet to /root/nltk_data...\n"
          ]
        },
        {
          "output_type": "execute_result",
          "data": {
            "text/plain": [
              "True"
            ]
          },
          "metadata": {},
          "execution_count": 3
        }
      ]
    },
    {
      "cell_type": "code",
      "source": [
        "text = '''NLTK is a powerful Python library for natural language processing tasks\n",
        "      It provides easy-to-use interfaces to over 50 corpora and lexical resources, such as WordNet, along with a suite of text processing libraries\n",
        "for classification, tokenization, stemming, tagging, parsing,\n",
        "and semantic reasoning, wrappers for industrial-strength NLP libraries,\n",
        "and an active discussion forum.'''"
      ],
      "metadata": {
        "id": "xaFK_9V5ms-u"
      },
      "execution_count": null,
      "outputs": []
    },
    {
      "cell_type": "code",
      "source": [
        "tokenizers = {\n",
        "    \"Whitespace Tokenizer\": WhitespaceTokenizer(),\n",
        "    \"Punctuation-based Tokenizer\": WordPunctTokenizer(),\n",
        "    \"Treebank Tokenizer\": TreebankWordTokenizer(),\n",
        "    \"Tweet Tokenizer\": TweetTokenizer(),\n",
        "    \"MWE Tokenizer\": MWETokenizer(),\n",
        "}"
      ],
      "metadata": {
        "id": "MJXsKlbmmx3B"
      },
      "execution_count": null,
      "outputs": []
    },
    {
      "cell_type": "code",
      "source": [
        "porter_stemmer = PorterStemmer()\n",
        "snowball_stemmer = SnowballStemmer(\"english\")"
      ],
      "metadata": {
        "id": "vl-BmevJm0aj"
      },
      "execution_count": null,
      "outputs": []
    },
    {
      "cell_type": "code",
      "source": [
        "lemmatizer = WordNetLemmatizer()"
      ],
      "metadata": {
        "id": "1S4vgZC9m3BP"
      },
      "execution_count": null,
      "outputs": []
    },
    {
      "cell_type": "code",
      "source": [
        "for name, tokenizer in tokenizers.items():\n",
        "    tokens = tokenizer.tokenize(text)\n",
        "    print(f\"\\n{name}:\")\n",
        "    print(tokens)"
      ],
      "metadata": {
        "colab": {
          "base_uri": "https://localhost:8080/"
        },
        "id": "2hNmSK2wm5aE",
        "outputId": "f2035fba-04dd-4425-b83e-51b1e331d201"
      },
      "execution_count": null,
      "outputs": [
        {
          "output_type": "stream",
          "name": "stdout",
          "text": [
            "\n",
            "Whitespace Tokenizer:\n",
            "['NLTK', 'is', 'a', 'powerful', 'Python', 'library', 'for', 'natural', 'language', 'processing', 'tasks', 'It', 'provides', 'easy-to-use', 'interfaces', 'to', 'over', '50', 'corpora', 'and', 'lexical', 'resources,', 'such', 'as', 'WordNet,', 'along', 'with', 'a', 'suite', 'of', 'text', 'processing', 'libraries', 'for', 'classification,', 'tokenization,', 'stemming,', 'tagging,', 'parsing,', 'and', 'semantic', 'reasoning,', 'wrappers', 'for', 'industrial-strength', 'NLP', 'libraries,', 'and', 'an', 'active', 'discussion', 'forum.']\n",
            "\n",
            "Punctuation-based Tokenizer:\n",
            "['NLTK', 'is', 'a', 'powerful', 'Python', 'library', 'for', 'natural', 'language', 'processing', 'tasks', 'It', 'provides', 'easy', '-', 'to', '-', 'use', 'interfaces', 'to', 'over', '50', 'corpora', 'and', 'lexical', 'resources', ',', 'such', 'as', 'WordNet', ',', 'along', 'with', 'a', 'suite', 'of', 'text', 'processing', 'libraries', 'for', 'classification', ',', 'tokenization', ',', 'stemming', ',', 'tagging', ',', 'parsing', ',', 'and', 'semantic', 'reasoning', ',', 'wrappers', 'for', 'industrial', '-', 'strength', 'NLP', 'libraries', ',', 'and', 'an', 'active', 'discussion', 'forum', '.']\n",
            "\n",
            "Treebank Tokenizer:\n",
            "['NLTK', 'is', 'a', 'powerful', 'Python', 'library', 'for', 'natural', 'language', 'processing', 'tasks', 'It', 'provides', 'easy-to-use', 'interfaces', 'to', 'over', '50', 'corpora', 'and', 'lexical', 'resources', ',', 'such', 'as', 'WordNet', ',', 'along', 'with', 'a', 'suite', 'of', 'text', 'processing', 'libraries', 'for', 'classification', ',', 'tokenization', ',', 'stemming', ',', 'tagging', ',', 'parsing', ',', 'and', 'semantic', 'reasoning', ',', 'wrappers', 'for', 'industrial-strength', 'NLP', 'libraries', ',', 'and', 'an', 'active', 'discussion', 'forum', '.']\n",
            "\n",
            "Tweet Tokenizer:\n",
            "['NLTK', 'is', 'a', 'powerful', 'Python', 'library', 'for', 'natural', 'language', 'processing', 'tasks', 'It', 'provides', 'easy-to-use', 'interfaces', 'to', 'over', '50', 'corpora', 'and', 'lexical', 'resources', ',', 'such', 'as', 'WordNet', ',', 'along', 'with', 'a', 'suite', 'of', 'text', 'processing', 'libraries', 'for', 'classification', ',', 'tokenization', ',', 'stemming', ',', 'tagging', ',', 'parsing', ',', 'and', 'semantic', 'reasoning', ',', 'wrappers', 'for', 'industrial-strength', 'NLP', 'libraries', ',', 'and', 'an', 'active', 'discussion', 'forum', '.']\n",
            "\n",
            "MWE Tokenizer:\n",
            "['N', 'L', 'T', 'K', ' ', 'i', 's', ' ', 'a', ' ', 'p', 'o', 'w', 'e', 'r', 'f', 'u', 'l', ' ', 'P', 'y', 't', 'h', 'o', 'n', ' ', 'l', 'i', 'b', 'r', 'a', 'r', 'y', ' ', 'f', 'o', 'r', ' ', 'n', 'a', 't', 'u', 'r', 'a', 'l', ' ', 'l', 'a', 'n', 'g', 'u', 'a', 'g', 'e', ' ', 'p', 'r', 'o', 'c', 'e', 's', 's', 'i', 'n', 'g', ' ', 't', 'a', 's', 'k', 's', '\\n', ' ', ' ', ' ', ' ', ' ', ' ', 'I', 't', ' ', 'p', 'r', 'o', 'v', 'i', 'd', 'e', 's', ' ', 'e', 'a', 's', 'y', '-', 't', 'o', '-', 'u', 's', 'e', ' ', 'i', 'n', 't', 'e', 'r', 'f', 'a', 'c', 'e', 's', ' ', 't', 'o', ' ', 'o', 'v', 'e', 'r', ' ', '5', '0', ' ', 'c', 'o', 'r', 'p', 'o', 'r', 'a', ' ', 'a', 'n', 'd', ' ', 'l', 'e', 'x', 'i', 'c', 'a', 'l', ' ', 'r', 'e', 's', 'o', 'u', 'r', 'c', 'e', 's', ',', ' ', 's', 'u', 'c', 'h', ' ', 'a', 's', ' ', 'W', 'o', 'r', 'd', 'N', 'e', 't', ',', ' ', 'a', 'l', 'o', 'n', 'g', ' ', 'w', 'i', 't', 'h', ' ', 'a', ' ', 's', 'u', 'i', 't', 'e', ' ', 'o', 'f', ' ', 't', 'e', 'x', 't', ' ', 'p', 'r', 'o', 'c', 'e', 's', 's', 'i', 'n', 'g', ' ', 'l', 'i', 'b', 'r', 'a', 'r', 'i', 'e', 's', '\\n', 'f', 'o', 'r', ' ', 'c', 'l', 'a', 's', 's', 'i', 'f', 'i', 'c', 'a', 't', 'i', 'o', 'n', ',', ' ', 't', 'o', 'k', 'e', 'n', 'i', 'z', 'a', 't', 'i', 'o', 'n', ',', ' ', 's', 't', 'e', 'm', 'm', 'i', 'n', 'g', ',', ' ', 't', 'a', 'g', 'g', 'i', 'n', 'g', ',', ' ', 'p', 'a', 'r', 's', 'i', 'n', 'g', ',', '\\n', 'a', 'n', 'd', ' ', 's', 'e', 'm', 'a', 'n', 't', 'i', 'c', ' ', 'r', 'e', 'a', 's', 'o', 'n', 'i', 'n', 'g', ',', ' ', 'w', 'r', 'a', 'p', 'p', 'e', 'r', 's', ' ', 'f', 'o', 'r', ' ', 'i', 'n', 'd', 'u', 's', 't', 'r', 'i', 'a', 'l', '-', 's', 't', 'r', 'e', 'n', 'g', 't', 'h', ' ', 'N', 'L', 'P', ' ', 'l', 'i', 'b', 'r', 'a', 'r', 'i', 'e', 's', ',', '\\n', 'a', 'n', 'd', ' ', 'a', 'n', ' ', 'a', 'c', 't', 'i', 'v', 'e', ' ', 'd', 'i', 's', 'c', 'u', 's', 's', 'i', 'o', 'n', ' ', 'f', 'o', 'r', 'u', 'm', '.']\n"
          ]
        }
      ]
    },
    {
      "cell_type": "code",
      "source": [
        "print(\"\\nPorter Stemmer:\")\n",
        "porter_stems = [porter_stemmer.stem(token) for token in tokens]\n",
        "print(porter_stems)\n"
      ],
      "metadata": {
        "colab": {
          "base_uri": "https://localhost:8080/"
        },
        "id": "UXfFMXcEm7u5",
        "outputId": "19ef45f3-76f9-4590-98d9-d2fafec2e50b"
      },
      "execution_count": null,
      "outputs": [
        {
          "output_type": "stream",
          "name": "stdout",
          "text": [
            "\n",
            "Porter Stemmer:\n",
            "['n', 'l', 't', 'k', ' ', 'i', 's', ' ', 'a', ' ', 'p', 'o', 'w', 'e', 'r', 'f', 'u', 'l', ' ', 'p', 'y', 't', 'h', 'o', 'n', ' ', 'l', 'i', 'b', 'r', 'a', 'r', 'y', ' ', 'f', 'o', 'r', ' ', 'n', 'a', 't', 'u', 'r', 'a', 'l', ' ', 'l', 'a', 'n', 'g', 'u', 'a', 'g', 'e', ' ', 'p', 'r', 'o', 'c', 'e', 's', 's', 'i', 'n', 'g', ' ', 't', 'a', 's', 'k', 's', '\\n', ' ', ' ', ' ', ' ', ' ', ' ', 'i', 't', ' ', 'p', 'r', 'o', 'v', 'i', 'd', 'e', 's', ' ', 'e', 'a', 's', 'y', '-', 't', 'o', '-', 'u', 's', 'e', ' ', 'i', 'n', 't', 'e', 'r', 'f', 'a', 'c', 'e', 's', ' ', 't', 'o', ' ', 'o', 'v', 'e', 'r', ' ', '5', '0', ' ', 'c', 'o', 'r', 'p', 'o', 'r', 'a', ' ', 'a', 'n', 'd', ' ', 'l', 'e', 'x', 'i', 'c', 'a', 'l', ' ', 'r', 'e', 's', 'o', 'u', 'r', 'c', 'e', 's', ',', ' ', 's', 'u', 'c', 'h', ' ', 'a', 's', ' ', 'w', 'o', 'r', 'd', 'n', 'e', 't', ',', ' ', 'a', 'l', 'o', 'n', 'g', ' ', 'w', 'i', 't', 'h', ' ', 'a', ' ', 's', 'u', 'i', 't', 'e', ' ', 'o', 'f', ' ', 't', 'e', 'x', 't', ' ', 'p', 'r', 'o', 'c', 'e', 's', 's', 'i', 'n', 'g', ' ', 'l', 'i', 'b', 'r', 'a', 'r', 'i', 'e', 's', '\\n', 'f', 'o', 'r', ' ', 'c', 'l', 'a', 's', 's', 'i', 'f', 'i', 'c', 'a', 't', 'i', 'o', 'n', ',', ' ', 't', 'o', 'k', 'e', 'n', 'i', 'z', 'a', 't', 'i', 'o', 'n', ',', ' ', 's', 't', 'e', 'm', 'm', 'i', 'n', 'g', ',', ' ', 't', 'a', 'g', 'g', 'i', 'n', 'g', ',', ' ', 'p', 'a', 'r', 's', 'i', 'n', 'g', ',', '\\n', 'a', 'n', 'd', ' ', 's', 'e', 'm', 'a', 'n', 't', 'i', 'c', ' ', 'r', 'e', 'a', 's', 'o', 'n', 'i', 'n', 'g', ',', ' ', 'w', 'r', 'a', 'p', 'p', 'e', 'r', 's', ' ', 'f', 'o', 'r', ' ', 'i', 'n', 'd', 'u', 's', 't', 'r', 'i', 'a', 'l', '-', 's', 't', 'r', 'e', 'n', 'g', 't', 'h', ' ', 'n', 'l', 'p', ' ', 'l', 'i', 'b', 'r', 'a', 'r', 'i', 'e', 's', ',', '\\n', 'a', 'n', 'd', ' ', 'a', 'n', ' ', 'a', 'c', 't', 'i', 'v', 'e', ' ', 'd', 'i', 's', 'c', 'u', 's', 's', 'i', 'o', 'n', ' ', 'f', 'o', 'r', 'u', 'm', '.']\n"
          ]
        }
      ]
    },
    {
      "cell_type": "code",
      "source": [
        "print(\"\\nSnowball Stemmer:\")\n",
        "snowball_stems = [snowball_stemmer.stem(token) for token in tokens]\n",
        "print(snowball_stems)"
      ],
      "metadata": {
        "colab": {
          "base_uri": "https://localhost:8080/"
        },
        "id": "medAoFqGm-TC",
        "outputId": "c166fa76-a06f-4762-970a-f8f01de969e4"
      },
      "execution_count": null,
      "outputs": [
        {
          "output_type": "stream",
          "name": "stdout",
          "text": [
            "\n",
            "Snowball Stemmer:\n",
            "['n', 'l', 't', 'k', ' ', 'i', 's', ' ', 'a', ' ', 'p', 'o', 'w', 'e', 'r', 'f', 'u', 'l', ' ', 'p', 'y', 't', 'h', 'o', 'n', ' ', 'l', 'i', 'b', 'r', 'a', 'r', 'y', ' ', 'f', 'o', 'r', ' ', 'n', 'a', 't', 'u', 'r', 'a', 'l', ' ', 'l', 'a', 'n', 'g', 'u', 'a', 'g', 'e', ' ', 'p', 'r', 'o', 'c', 'e', 's', 's', 'i', 'n', 'g', ' ', 't', 'a', 's', 'k', 's', '\\n', ' ', ' ', ' ', ' ', ' ', ' ', 'i', 't', ' ', 'p', 'r', 'o', 'v', 'i', 'd', 'e', 's', ' ', 'e', 'a', 's', 'y', '-', 't', 'o', '-', 'u', 's', 'e', ' ', 'i', 'n', 't', 'e', 'r', 'f', 'a', 'c', 'e', 's', ' ', 't', 'o', ' ', 'o', 'v', 'e', 'r', ' ', '5', '0', ' ', 'c', 'o', 'r', 'p', 'o', 'r', 'a', ' ', 'a', 'n', 'd', ' ', 'l', 'e', 'x', 'i', 'c', 'a', 'l', ' ', 'r', 'e', 's', 'o', 'u', 'r', 'c', 'e', 's', ',', ' ', 's', 'u', 'c', 'h', ' ', 'a', 's', ' ', 'w', 'o', 'r', 'd', 'n', 'e', 't', ',', ' ', 'a', 'l', 'o', 'n', 'g', ' ', 'w', 'i', 't', 'h', ' ', 'a', ' ', 's', 'u', 'i', 't', 'e', ' ', 'o', 'f', ' ', 't', 'e', 'x', 't', ' ', 'p', 'r', 'o', 'c', 'e', 's', 's', 'i', 'n', 'g', ' ', 'l', 'i', 'b', 'r', 'a', 'r', 'i', 'e', 's', '\\n', 'f', 'o', 'r', ' ', 'c', 'l', 'a', 's', 's', 'i', 'f', 'i', 'c', 'a', 't', 'i', 'o', 'n', ',', ' ', 't', 'o', 'k', 'e', 'n', 'i', 'z', 'a', 't', 'i', 'o', 'n', ',', ' ', 's', 't', 'e', 'm', 'm', 'i', 'n', 'g', ',', ' ', 't', 'a', 'g', 'g', 'i', 'n', 'g', ',', ' ', 'p', 'a', 'r', 's', 'i', 'n', 'g', ',', '\\n', 'a', 'n', 'd', ' ', 's', 'e', 'm', 'a', 'n', 't', 'i', 'c', ' ', 'r', 'e', 'a', 's', 'o', 'n', 'i', 'n', 'g', ',', ' ', 'w', 'r', 'a', 'p', 'p', 'e', 'r', 's', ' ', 'f', 'o', 'r', ' ', 'i', 'n', 'd', 'u', 's', 't', 'r', 'i', 'a', 'l', '-', 's', 't', 'r', 'e', 'n', 'g', 't', 'h', ' ', 'n', 'l', 'p', ' ', 'l', 'i', 'b', 'r', 'a', 'r', 'i', 'e', 's', ',', '\\n', 'a', 'n', 'd', ' ', 'a', 'n', ' ', 'a', 'c', 't', 'i', 'v', 'e', ' ', 'd', 'i', 's', 'c', 'u', 's', 's', 'i', 'o', 'n', ' ', 'f', 'o', 'r', 'u', 'm', '.']\n"
          ]
        }
      ]
    },
    {
      "cell_type": "code",
      "source": [
        "print(\"\\nLemmatization:\")\n",
        "lemmas = [lemmatizer.lemmatize(token) for token in tokens]\n",
        "print(lemmas)"
      ],
      "metadata": {
        "colab": {
          "base_uri": "https://localhost:8080/"
        },
        "id": "VQEUkZ5snDFE",
        "outputId": "c42e9211-7292-4972-a89a-9c03c19343ae"
      },
      "execution_count": null,
      "outputs": [
        {
          "output_type": "stream",
          "name": "stdout",
          "text": [
            "\n",
            "Lemmatization:\n",
            "['N', 'L', 'T', 'K', ' ', 'i', 's', ' ', 'a', ' ', 'p', 'o', 'w', 'e', 'r', 'f', 'u', 'l', ' ', 'P', 'y', 't', 'h', 'o', 'n', ' ', 'l', 'i', 'b', 'r', 'a', 'r', 'y', ' ', 'f', 'o', 'r', ' ', 'n', 'a', 't', 'u', 'r', 'a', 'l', ' ', 'l', 'a', 'n', 'g', 'u', 'a', 'g', 'e', ' ', 'p', 'r', 'o', 'c', 'e', 's', 's', 'i', 'n', 'g', ' ', 't', 'a', 's', 'k', 's', '\\n', ' ', ' ', ' ', ' ', ' ', ' ', 'I', 't', ' ', 'p', 'r', 'o', 'v', 'i', 'd', 'e', 's', ' ', 'e', 'a', 's', 'y', '-', 't', 'o', '-', 'u', 's', 'e', ' ', 'i', 'n', 't', 'e', 'r', 'f', 'a', 'c', 'e', 's', ' ', 't', 'o', ' ', 'o', 'v', 'e', 'r', ' ', '5', '0', ' ', 'c', 'o', 'r', 'p', 'o', 'r', 'a', ' ', 'a', 'n', 'd', ' ', 'l', 'e', 'x', 'i', 'c', 'a', 'l', ' ', 'r', 'e', 's', 'o', 'u', 'r', 'c', 'e', 's', ',', ' ', 's', 'u', 'c', 'h', ' ', 'a', 's', ' ', 'W', 'o', 'r', 'd', 'N', 'e', 't', ',', ' ', 'a', 'l', 'o', 'n', 'g', ' ', 'w', 'i', 't', 'h', ' ', 'a', ' ', 's', 'u', 'i', 't', 'e', ' ', 'o', 'f', ' ', 't', 'e', 'x', 't', ' ', 'p', 'r', 'o', 'c', 'e', 's', 's', 'i', 'n', 'g', ' ', 'l', 'i', 'b', 'r', 'a', 'r', 'i', 'e', 's', '\\n', 'f', 'o', 'r', ' ', 'c', 'l', 'a', 's', 's', 'i', 'f', 'i', 'c', 'a', 't', 'i', 'o', 'n', ',', ' ', 't', 'o', 'k', 'e', 'n', 'i', 'z', 'a', 't', 'i', 'o', 'n', ',', ' ', 's', 't', 'e', 'm', 'm', 'i', 'n', 'g', ',', ' ', 't', 'a', 'g', 'g', 'i', 'n', 'g', ',', ' ', 'p', 'a', 'r', 's', 'i', 'n', 'g', ',', '\\n', 'a', 'n', 'd', ' ', 's', 'e', 'm', 'a', 'n', 't', 'i', 'c', ' ', 'r', 'e', 'a', 's', 'o', 'n', 'i', 'n', 'g', ',', ' ', 'w', 'r', 'a', 'p', 'p', 'e', 'r', 's', ' ', 'f', 'o', 'r', ' ', 'i', 'n', 'd', 'u', 's', 't', 'r', 'i', 'a', 'l', '-', 's', 't', 'r', 'e', 'n', 'g', 't', 'h', ' ', 'N', 'L', 'P', ' ', 'l', 'i', 'b', 'r', 'a', 'r', 'i', 'e', 's', ',', '\\n', 'a', 'n', 'd', ' ', 'a', 'n', ' ', 'a', 'c', 't', 'i', 'v', 'e', ' ', 'd', 'i', 's', 'c', 'u', 's', 's', 'i', 'o', 'n', ' ', 'f', 'o', 'r', 'u', 'm', '.']\n"
          ]
        }
      ]
    }
  ]
}